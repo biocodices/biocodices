{
 "cells": [
  {
   "cell_type": "code",
   "execution_count": 7,
   "metadata": {
    "collapsed": false
   },
   "outputs": [
    {
     "data": {
      "text/plain": [
       "{'base_dir': '~/PARKINSON',\n",
       " 'bed_dir': 'bed',\n",
       " 'data_dir': 'data/ENP/2015_10_23_NGS1/UGB-CATG-AmpliconesB-01',\n",
       " 'executables': {'fastqc': '~/software/FastQC/fastqc'},\n",
       " 'results_dir': 'results/ENP/FECHA_DEL_ANALISIS'}"
      ]
     },
     "execution_count": 7,
     "metadata": {},
     "output_type": "execute_result"
    }
   ],
   "source": [
    "# from os.path import expanduser\n",
    "# import yaml\n",
    "\n",
    "\n",
    "# class Config:\n",
    "#     def __init__(self, settings_filepath):\n",
    "#         settings_filepath = expanduser(settings_filepath)\n",
    "#         with open(settings_filepath, 'r') as settings_file:\n",
    "#             self.settings = yaml.load(settings_file)\n",
    "            \n",
    "#     def __get__(self, key):\n",
    "        \n",
    "        \n",
    "# conf = Config('~/parkinson.yml')\n",
    "# conf.settings\n"
   ]
  },
  {
   "cell_type": "markdown",
   "metadata": {},
   "source": [
    "# Fastq"
   ]
  },
  {
   "cell_type": "code",
   "execution_count": 9,
   "metadata": {
    "collapsed": true
   },
   "outputs": [],
   "source": [
    "def printb(s):\n",
    "    print(str(s, 'utf-8'))"
   ]
  },
  {
   "cell_type": "code",
   "execution_count": 34,
   "metadata": {
    "collapsed": false
   },
   "outputs": [],
   "source": [
    "import subprocess\n",
    "import re\n",
    "from os import makedirs\n",
    "from os.path import expanduser, join, basename\n",
    "from glob import glob\n",
    "\n",
    "sample_id = 'SAR100'\n",
    "base_dir = expanduser('~/PARKINSON')\n",
    "data_dir = join(base_dir, 'data/ENP/2015_10_23_NGS1/UGB-CATG-AmpliconesB-01/')\n",
    "bed_dir = join(base_dir, 'bed')\n",
    "results_dir = join(base_dir, 'results/ENP/FECHA_DEL_ANALISIS/')\n",
    "\n",
    "makedirs(results_dir, exist_ok=True)\n",
    "\n",
    "fastqc_executable = expanduser('~/software/FastQC/fastqc')\n",
    "\n",
    "fastq_filenames = [fn for fn in glob(data_dir + '*.fastq') if 'trimmed' not in fn]\n",
    "fastq_filenames = [fn for fn in fastq_filenames if sample_id in fn]  # Filtrado para probar con dos\n",
    "fastq_filepaths = [join(base_dir, fn) for fn in fastq_filenames]\n",
    "sample_ids = [re.search(r'(SAR\\d+)-', fp).group(1) for fp in fastq_filepaths]"
   ]
  },
  {
   "cell_type": "code",
   "execution_count": 36,
   "metadata": {
    "collapsed": false
   },
   "outputs": [],
   "source": [
    "def sample_results_dir(sample_id):\n",
    "    return join(results_dir, sample_id)\n",
    "\n",
    "for sample_id in set(sample_ids):\n",
    "    makedirs(sample_results_dir(sample_id), exist_ok=True)"
   ]
  },
  {
   "cell_type": "code",
   "execution_count": 27,
   "metadata": {
    "collapsed": false
   },
   "outputs": [
    {
     "name": "stdout",
     "output_type": "stream",
     "text": [
      "b'Analysis complete for SAR099-2015-01-00007_S8_L001_R2_001.fastq\\n'\n",
      "b'Analysis complete for SAR099-2015-01-00007_S8_L001_R1_001.fastq\\n'\n"
     ]
    }
   ],
   "source": [
    "for fastq_filepath in fastq_filepaths:\n",
    "    command = '{} {}'.format(fastqc_executable, fastq_filepath)\n",
    "    out = subprocess.check_output(command.split(' '))\n",
    "    print(out)"
   ]
  },
  {
   "cell_type": "markdown",
   "metadata": {},
   "source": [
    "# Quality control y trimming de los fastq"
   ]
  },
  {
   "cell_type": "code",
   "execution_count": 33,
   "metadata": {
    "collapsed": false
   },
   "outputs": [
    {
     "data": {
      "text/plain": [
       "['/home/juan/PARKINSON/results/ENP/FECHA_DEL_ANALISIS/SAR100/SAR099-2015-01-00007_S8_L001_R2_001.trimmed.fastq',\n",
       " '/home/juan/PARKINSON/results/ENP/FECHA_DEL_ANALISIS/SAR100/SAR099-2015-01-00007_S8_L001_R1_001.trimmed.fastq']"
      ]
     },
     "execution_count": 33,
     "metadata": {},
     "output_type": "execute_result"
    }
   ],
   "source": [
    "trimmed_fastq_filenames"
   ]
  },
  {
   "cell_type": "code",
   "execution_count": 37,
   "metadata": {
    "collapsed": false
   },
   "outputs": [
    {
     "name": "stdout",
     "output_type": "stream",
     "text": [
      "/home/juan/software/ea-utils.1.1.2-537/fastq-mcf -o /home/juan/PARKINSON/results/ENP/FECHA_DEL_ANALISIS/SAR100/SAR100-2015-01-00008_S9_L001_R1_001.trimmed.fastq -o /home/juan/PARKINSON/results/ENP/FECHA_DEL_ANALISIS/SAR100/SAR100-2015-01-00008_S9_L001_R2_001.trimmed.fastq -l 50 -q 20 -x 10 -u -P 33 /home/juan/PARKINSON/adaptadores_truseq/adaptadores.txt /home/juan/PARKINSON/data/ENP/2015_10_23_NGS1/UGB-CATG-AmpliconesB-01/SAR100-2015-01-00008_S9_L001_R1_001.fastq /home/juan/PARKINSON/data/ENP/2015_10_23_NGS1/UGB-CATG-AmpliconesB-01/SAR100-2015-01-00008_S9_L001_R2_001.fastq\n",
      "Scale used: 2.2\n",
      "Filtering Illumina reads on purity field\n",
      "Phred: 33\n",
      "Threshold used: 152 out of 60434\n",
      "Adapter Truseq_adapter_after_index (ATCTCGTATGCCGTCTTCTGCTTG): counted 17934 at the 'end' of '/home/juan/PARKINSON/data/ENP/2015_10_23_NGS1/UGB-CATG-AmpliconesB-01/SAR100-2015-01-00008_S9_L001_R1_001.fastq', clip set to 1\n",
      "Adapter 1_rc (AGATCGGAAGAGCGTCGTGTAGGGAAAGAGTGTAGATCTCGGTGGTCGCCGTATCATT): counted 19168 at the 'end' of '/home/juan/PARKINSON/data/ENP/2015_10_23_NGS1/UGB-CATG-AmpliconesB-01/SAR100-2015-01-00008_S9_L001_R2_001.fastq', clip set to 1\n",
      "Files: 2\n",
      "Total reads: 60434\n",
      "Too short after clip: 8301\n",
      "Clipped 'end' reads (/home/juan/PARKINSON/data/ENP/2015_10_23_NGS1/UGB-CATG-AmpliconesB-01/SAR100-2015-01-00008_S9_L001_R1_001.fastq): Count 27486, Mean: 27.46, Sd: 36.23\n",
      "Trimmed 16151 reads (/home/juan/PARKINSON/data/ENP/2015_10_23_NGS1/UGB-CATG-AmpliconesB-01/SAR100-2015-01-00008_S9_L001_R1_001.fastq) by an average of 5.02 bases on quality < 20\n",
      "Clipped 'end' reads (/home/juan/PARKINSON/data/ENP/2015_10_23_NGS1/UGB-CATG-AmpliconesB-01/SAR100-2015-01-00008_S9_L001_R2_001.fastq): Count 22239, Mean: 2.33, Sd: 5.20\n",
      "Trimmed 14110 reads (/home/juan/PARKINSON/data/ENP/2015_10_23_NGS1/UGB-CATG-AmpliconesB-01/SAR100-2015-01-00008_S9_L001_R2_001.fastq) by an average of 4.38 bases on quality < 20\n",
      "\n"
     ]
    }
   ],
   "source": [
    "fastq_mcf_executable = expanduser('~/software/ea-utils.1.1.2-537/fastq-mcf')\n",
    "adapters_filepath = expanduser('~/PARKINSON/adaptadores_truseq/adaptadores.txt')\n",
    "\n",
    "trimmed_fastq_filenames = [join(sample_results_dir(sample_id),\n",
    "                                basename(fastq_filepath.replace('.fastq', '.trimmed.fastq')))\n",
    "                           for fastq_filepath in fastq_filepaths]\n",
    "\n",
    "command_tmpl = '{} -o {} -o {} -l 50 -q 20 -x 10 -u -P 33 {} {} {}'\n",
    "command = command_tmpl.format(fastq_mcf_executable, trimmed_fastq_filenames[0],\n",
    "                              trimmed_fastq_filenames[1],\n",
    "                              adapters_filepath, fastq_filepaths[0], fastq_filepaths[1])\n",
    "\n",
    "print(command)\n",
    "out = subprocess.check_output(command.split(' '))\n",
    "printb(out)"
   ]
  },
  {
   "cell_type": "markdown",
   "metadata": {},
   "source": [
    "# Alignment to reference"
   ]
  },
  {
   "cell_type": "markdown",
   "metadata": {},
   "source": [
    "Antes de usar el archivo de la referencia (fasta) crear un índice con\n",
    "`bwa index -a bwtsw reference.fa`"
   ]
  },
  {
   "cell_type": "code",
   "execution_count": 39,
   "metadata": {
    "collapsed": false
   },
   "outputs": [
    {
     "name": "stdout",
     "output_type": "stream",
     "text": [
      "SAR100\n",
      "bwa mem -M /home/juan/gatk_bundle/human_g1k_v37.fasta /home/juan/PARKINSON/results/ENP/FECHA_DEL_ANALISIS/SAR100/SAR100-2015-01-00008_S9_L001_R1_001.trimmed.fastq /home/juan/PARKINSON/results/ENP/FECHA_DEL_ANALISIS/SAR100/SAR100-2015-01-00008_S9_L001_R2_001.trimmed.fastq\n"
     ]
    }
   ],
   "source": [
    "sam_filepaths = []\n",
    "\n",
    "for sample_id in set(sample_ids):\n",
    "    print(sample_id)\n",
    "    trimmed_fastqs = [fn for fn in trimmed_fastq_filenames if sample_id in fn]\n",
    "    reference_genome_filename = expanduser('~/gatk_bundle/human_g1k_v37.fasta')\n",
    "    sam_filepath = join(sample_results_dir(sample_id), '{}.sam').format(sample_id)\n",
    "    sam_filepaths.append(sam_filepath)\n",
    "    command = 'bwa mem -M {} {} {}'.format(reference_genome_filename,\n",
    "                                           trimmed_fastqs[0], trimmed_fastqs[1])\n",
    "    \n",
    "    with open(sam_filepath, 'w+') as sam_file:\n",
    "        print(command)\n",
    "        subprocess.run(command.split(' '), stdout=sam_file)  # No redireccionó el STDOUT!"
   ]
  },
  {
   "cell_type": "markdown",
   "metadata": {},
   "source": [
    "Generamos 1 SAM de 2 fastqs del mismo chabón. Guardamos la info de la corrida para posterior uso en GATK (tal vez)."
   ]
  },
  {
   "cell_type": "markdown",
   "metadata": {},
   "source": [
    "# anda en la consola y no acá why??"
   ]
  },
  {
   "cell_type": "code",
   "execution_count": 54,
   "metadata": {
    "collapsed": false
   },
   "outputs": [
    {
     "name": "stdout",
     "output_type": "stream",
     "text": [
      "java -jar /home/juan/software/picard-tools-2.2.4/picard.jar AddOrReplaceReadGroups VALIDATION_STRINGENCY=LENIENT SO=coordinate CREATE_INDEX=TRUE ID=NGS_00001.ENPv1_LIB_00001.000000000-D0M8G.1.SAR100 SM=SAR100 LB=ENPv1_LIB_00001 PL=ILLUMINA PU=000000000-D0M8G.1 I=/home/juan/PARKINSON/results/ENP/FECHA_DEL_ANALISIS/SAR100/SAR100.sam  O=/home/juan/PARKINSON/results/ENP/FECHA_DEL_ANALISIS/SAR100/SAR100.bam\n"
     ]
    }
   ],
   "source": [
    "bam_filepaths = []\n",
    "for sam_filepath in sam_filepaths:\n",
    "    bam_filepath = sam_filepath.replace('.sam', '.bam')\n",
    "    bam_filepaths.append(bam_filepath)\n",
    "    library_id = 'ENPv1_LIB_00001'\n",
    "    ngs_id = 'NGS_00001'\n",
    "\n",
    "    picard_executable = expanduser('~/software/picard-tools-2.2.4/picard.jar ')\n",
    "    read_groups_executable = (picard_executable + 'AddOrReplaceReadGroups')\n",
    "    params = 'VALIDATION_STRINGENCY=LENIENT SO=coordinate CREATE_INDEX=TRUE'\n",
    "    params += ' ID={ngs_id}.{library_id}.000000000-D0M8G.1.{sample_id} SM={sample_id} LB={library_id}'\n",
    "    params += ' PL=ILLUMINA PU=000000000-D0M8G.1 I={sam_filepath} '\n",
    "    params += ' O={bam_filepath}'\n",
    "\n",
    "    params = params.format(**{\n",
    "        'sample_id': sample_id,\n",
    "        'library_id': library_id,\n",
    "        'ngs_id': ngs_id,\n",
    "        'sam_filepath': sam_filepath,\n",
    "        'bam_filepath': bam_filepath,\n",
    "    })\n",
    "\n",
    "    command = 'java -jar {} {}'.format(read_groups_executable, params)\n",
    "    print(command)\n",
    "    subprocess.run(command.split(' '))"
   ]
  },
  {
   "cell_type": "code",
   "execution_count": 41,
   "metadata": {
    "collapsed": false
   },
   "outputs": [
    {
     "data": {
      "text/plain": [
       "['/home/juan/PARKINSON/results/ENP/FECHA_DEL_ANALISIS/SAR100/SAR100.bam']"
      ]
     },
     "execution_count": 41,
     "metadata": {},
     "output_type": "execute_result"
    }
   ],
   "source": [
    "bam_filepaths"
   ]
  },
  {
   "cell_type": "markdown",
   "metadata": {},
   "source": [
    "# Realign indels & Recalibrate BAM"
   ]
  },
  {
   "cell_type": "markdown",
   "metadata": {},
   "source": [
    "Realineamiento en función de indels conocidos (usar archivos de indels en el bundle de gatk) ( esto está en el TP 9 del curso )\n",
    "\n"
   ]
  },
  {
   "cell_type": "code",
   "execution_count": 64,
   "metadata": {
    "collapsed": false
   },
   "outputs": [
    {
     "name": "stdout",
     "output_type": "stream",
     "text": [
      "java -jar /home/juan/software/GATK/GenomeAnalysisTK.jar -T RealignerTargetCreator -R /home/juan/gatk_bundle/human_g1k_v37.fasta -I /home/juan/PARKINSON/results/ENP/FECHA_DEL_ANALISIS/SAR100/SAR100.bam -known /home/juan/gatk_bundle/1000G_phase1.indels.b37.vcf -known /home/juan/gatk_bundle/Mills_and_1000G_gold_standard.indels.b37.vcf -L /home/juan/PARKINSON/bed/disenio_ENP_illumina2_ordenado.bed -o /home/juan/PARKINSON/results/ENP/FECHA_DEL_ANALISIS/SAR100/SAR100.target_intervals.list\n"
     ]
    }
   ],
   "source": [
    "target_intervals_filenames = []\n",
    "gatk_bundle_dir = expanduser('~/gatk_bundle')\n",
    "gatk_executable = expanduser('~/software/GATK/GenomeAnalysisTK.jar')\n",
    "realigner_executable = gatk_executable + ' -T RealignerTargetCreator'\n",
    "thousand_genomes_indels = join(gatk_bundle_dir, '1000G_phase1.indels.b37.vcf')\n",
    "mills_indels = join(gatk_bundle_dir, 'Mills_and_1000G_gold_standard.indels.b37.vcf')\n",
    "\n",
    "for bam_filepath in bam_filepaths:\n",
    "    target_intervals_filename = '{}.target_intervals.list'.format(join(sample_results_dir(sample_id), sample_id))\n",
    "    target_intervals_filenames.append(target_intervals_filename)\n",
    "\n",
    "    params = '-R {}'.format(reference_genome_filename)\n",
    "    params += ' -I {}'.format(bam_filepath)\n",
    "    for known_indels in [thousand_genomes_indels, mills_indels]:\n",
    "        params += ' -known {}'.format(known_indels)\n",
    "    params += ' -L {}'.format(join(bed_dir, 'disenio_ENP_illumina2_ordenado.bed'))\n",
    "    params += ' -o {}'.format(target_intervals_filename)\n",
    "\n",
    "    command = 'java -jar {} {}'.format(realigner_executable, params)\n",
    "    print(command)\n",
    "    # TODO: redirect stderr to a logfile. WARNING: not stdout, that's used by GATK\n",
    "    subprocess.run(command.split(' '))"
   ]
  },
  {
   "cell_type": "code",
   "execution_count": 43,
   "metadata": {
    "collapsed": false
   },
   "outputs": [
    {
     "name": "stdout",
     "output_type": "stream",
     "text": [
      "java -jar /home/juan/software/GATK/GenomeAnalysisTK.jar -T IndelRealigner -R /home/juan/gatk_bundle/human_g1k_v37.fasta -I /home/juan/PARKINSON/results/ENP/FECHA_DEL_ANALISIS/SAR100/SAR100.bam -targetIntervals /home/juan/PARKINSON/results/ENP/FECHA_DEL_ANALISIS/SAR100/SAR100.target_intervals.list -o /home/juan/PARKINSON/results/ENP/FECHA_DEL_ANALISIS/SAR100/SAR100.realigned.bam\n"
     ]
    }
   ],
   "source": [
    "realigned_bam_filepaths = []\n",
    "\n",
    "for target_intervals_filename in target_intervals_filenames:\n",
    "    # bam_filepath define\n",
    "    indel_realigner_executable = gatk_executable + ' -T IndelRealigner'\n",
    "    realigned_bam_filepath = join(sample_results_dir(sample_id), '{}.realigned.bam'.format(sample_id))\n",
    "    realigned_bam_filepaths.append(realigned_bam_filepath)\n",
    "    params = '-R {}'.format(reference_genome_filename)\n",
    "    params += ' -I {}'.format(bam_filepath)\n",
    "    params += ' -targetIntervals {}'.format(target_intervals_filename)\n",
    "    params += ' -o {}'.format(realigned_bam_filepath)\n",
    "    \n",
    "    command = 'java -jar {} {}'.format(indel_realigner_executable, params)\n",
    "    print(command)\n",
    "    # TODO: redirect stdout to a logfile\n",
    "    subprocess.run(command.split(' '))"
   ]
  },
  {
   "cell_type": "code",
   "execution_count": 44,
   "metadata": {
    "collapsed": false
   },
   "outputs": [
    {
     "data": {
      "text/plain": [
       "['/home/juan/PARKINSON/results/ENP/FECHA_DEL_ANALISIS/SAR100/SAR100.realigned.bam']"
      ]
     },
     "execution_count": 44,
     "metadata": {},
     "output_type": "execute_result"
    }
   ],
   "source": [
    "realigned_bam_filepaths"
   ]
  },
  {
   "cell_type": "code",
   "execution_count": 45,
   "metadata": {
    "collapsed": false
   },
   "outputs": [
    {
     "name": "stdout",
     "output_type": "stream",
     "text": [
      "java -jar /home/juan/software/GATK/GenomeAnalysisTK.jar -T BaseRecalibrator -R /home/juan/gatk_bundle/human_g1k_v37.fasta -I /home/juan/PARKINSON/results/ENP/FECHA_DEL_ANALISIS/SAR100/SAR100.realigned.bam -knownSites /home/juan/gatk_bundle/dbsnp_138.b37.vcf -knownSites /home/juan/gatk_bundle/1000G_phase1.indels.b37.vcf -knownSites /home/juan/gatk_bundle/Mills_and_1000G_gold_standard.indels.b37.vcf -L /home/juan/PARKINSON/bed/disenio_ENP_illumina2_ordenado.bed -o /home/juan/PARKINSON/results/ENP/FECHA_DEL_ANALISIS/SAR100/SAR100.recalibration.table\n"
     ]
    }
   ],
   "source": [
    "recal_table_filepaths = []\n",
    "dbSNP_filepath = join(gatk_bundle_dir, 'dbsnp_138.b37.vcf')\n",
    "recal_executable = gatk_executable + ' -T BaseRecalibrator'\n",
    "\n",
    "for realigned_bam_filepath in realigned_bam_filepaths:\n",
    "    # sample_id define\n",
    "    sample_dir = sample_results_dir(sample_id)\n",
    "    recal_table_filepath = '{}.recalibration.table'.format(join(sample_dir, sample_id))\n",
    "    recal_table_filepaths.append(recal_table_filepath)\n",
    "    params = '-R {}'.format(reference_genome_filename)\n",
    "    params += ' -I {}'.format(realigned_bam_filepath)\n",
    "    for known_filename in [dbSNP_filepath, thousand_genomes_indels, mills_indels]:\n",
    "        params += ' -knownSites {}'.format(known_filename)\n",
    "    params += ' -L {}'.format(join(bed_dir, 'disenio_ENP_illumina2_ordenado.bed'))\n",
    "    params += ' -o {}'.format(recal_table_filepath)\n",
    "\n",
    "    command = 'java -jar {} {}'.format(recal_executable, params)\n",
    "    print(command)\n",
    "    # TODO: redirect stderr to logfile\n",
    "    subprocess.run(command.split(' '))"
   ]
  },
  {
   "cell_type": "code",
   "execution_count": 46,
   "metadata": {
    "collapsed": false
   },
   "outputs": [
    {
     "data": {
      "text/plain": [
       "['/home/juan/PARKINSON/results/ENP/FECHA_DEL_ANALISIS/SAR100/SAR100.realigned.bam']"
      ]
     },
     "execution_count": 46,
     "metadata": {},
     "output_type": "execute_result"
    }
   ],
   "source": [
    "recal_table_filepaths\n",
    "realigned_bam_filepaths"
   ]
  },
  {
   "cell_type": "code",
   "execution_count": 47,
   "metadata": {
    "collapsed": false
   },
   "outputs": [
    {
     "name": "stdout",
     "output_type": "stream",
     "text": [
      "java -jar /home/juan/software/GATK/GenomeAnalysisTK.jar -T PrintReads -R /home/juan/gatk_bundle/human_g1k_v37.fasta -I /home/juan/PARKINSON/results/ENP/FECHA_DEL_ANALISIS/SAR100/SAR100.realigned.bam -BQSR /home/juan/PARKINSON/results/ENP/FECHA_DEL_ANALISIS/SAR100/SAR100.recalibration.table -o /home/juan/PARKINSON/results/ENP/FECHA_DEL_ANALISIS/SAR100/SAR100.recalibrated.bam\n"
     ]
    }
   ],
   "source": [
    "recalibrated_bam_filepaths = []\n",
    "print_reads_executable = gatk_executable + ' -T PrintReads'\n",
    "\n",
    "combo = zip(recal_table_filepaths, realigned_bam_filepaths)\n",
    "for recal_table_filepath, realigned_bam_filepath in combo:\n",
    "    # define sample_id or loop the sample_ids\n",
    "    sample_dir = sample_results_dir(sample_id)\n",
    "    recalibrated_bam_filepath = '{}.recalibrated.bam'.format(join(sample_dir, sample_id))\n",
    "    recalibrated_bam_filepaths.append(recalibrated_bam_filepath)\n",
    "    params = '-R {}'.format(reference_genome_filename)\n",
    "    params += ' -I {}'.format(realigned_bam_filepath)\n",
    "    params += ' -BQSR {}'.format(recal_table_filepath)\n",
    "    params += ' -o {}'.format(recalibrated_bam_filepath)\n",
    "    \n",
    "    command = 'java -jar {} {}'.format(print_reads_executable, params)\n",
    "    print(command)\n",
    "    subprocess.run(command.split(' '))"
   ]
  },
  {
   "cell_type": "markdown",
   "metadata": {},
   "source": [
    "# Variant calling"
   ]
  },
  {
   "cell_type": "code",
   "execution_count": 48,
   "metadata": {
    "collapsed": false
   },
   "outputs": [
    {
     "name": "stdout",
     "output_type": "stream",
     "text": [
      "java -jar /home/juan/software/GATK/GenomeAnalysisTK.jar -T HaplotypeCaller -R /home/juan/gatk_bundle/human_g1k_v37.fasta -L /home/juan/PARKINSON/bed/disenio_ENP_illumina2_ordenado.bed -I /home/juan/PARKINSON/results/ENP/FECHA_DEL_ANALISIS/SAR100/SAR100.recalibrated.bam --genotyping_mode DISCOVERY -stand_emit_conf 10 -stand_call_conf 30 -o /home/juan/PARKINSON/results/ENP/FECHA_DEL_ANALISIS/SAR100/SAR100.raw.vcf\n"
     ]
    }
   ],
   "source": [
    "vcf_filepaths = []\n",
    "haplo_caller_executable = gatk_executable + ' -T HaplotypeCaller'\n",
    "\n",
    "for recalibrated_bam_filepath in recalibrated_bam_filepaths:\n",
    "    vcf_filepath = '{}.raw.vcf'.format(join(sample_results_dir(sample_id), sample_id))\n",
    "    vcf_filepaths.append(vcf_filepath)\n",
    "    params = '-R {}'.format(reference_genome_filename)\n",
    "    params += ' -L {}'.format(join(bed_dir, 'disenio_ENP_illumina2_ordenado.bed'))\n",
    "    params += ' -I {}'.format(recalibrated_bam_filepath)\n",
    "    params += ' --genotyping_mode DISCOVERY -stand_emit_conf 10 -stand_call_conf 30'\n",
    "    params += ' -o {}'.format(vcf_filepath)\n",
    "    \n",
    "    command = 'java -jar {} {}'.format(haplo_caller_executable, params)\n",
    "    print(command)\n",
    "    subprocess.run(command.split(' '))    "
   ]
  },
  {
   "cell_type": "code",
   "execution_count": 49,
   "metadata": {
    "collapsed": false
   },
   "outputs": [
    {
     "name": "stdout",
     "output_type": "stream",
     "text": [
      "java -jar /home/juan/software/GATK/GenomeAnalysisTK.jar -T HaplotypeCaller -R /home/juan/gatk_bundle/human_g1k_v37.fasta -L /home/juan/PARKINSON/bed/disenio_ENP_illumina2_ordenado.bed -I /home/juan/PARKINSON/results/ENP/FECHA_DEL_ANALISIS/SAR100/SAR100.recalibrated.bam --genotyping_mode DISCOVERY -variant_index_parameter 128000 -stand_emit_conf 10 -stand_call_conf 30 -variant_index_type LINEAR -o /home/juan/PARKINSON/results/ENP/FECHA_DEL_ANALISIS/SAR100/SAR100.raw.gvcf\n"
     ]
    }
   ],
   "source": [
    "gvcf_filepaths = []\n",
    "haplo_caller_executable = gatk_executable + ' -T HaplotypeCaller'\n",
    "\n",
    "for recalibrated_bam_filepath in recalibrated_bam_filepaths:\n",
    "    gvcf_filepath = '{}.raw.gvcf'.format(join(sample_results_dir(sample_id), sample_id))\n",
    "    gvcf_filepaths.append(vcf_filepath)\n",
    "    params = '-R {}'.format(reference_genome_filename)\n",
    "    params += ' -L {}'.format(join(bed_dir, 'disenio_ENP_illumina2_ordenado.bed'))\n",
    "    params += ' -I {}'.format(recalibrated_bam_filepath)\n",
    "    params += ' --genotyping_mode DISCOVERY -variant_index_parameter 128000'\n",
    "    params += ' -stand_emit_conf 10 -stand_call_conf 30 -variant_index_type LINEAR'\n",
    "    params += ' -o {}'.format(gvcf_filepath)\n",
    "    command = 'java -jar {} {}'.format(haplo_caller_executable, params)\n",
    "    print(command)\n",
    "    subprocess.run(command.split(' '))"
   ]
  },
  {
   "cell_type": "markdown",
   "metadata": {
    "collapsed": true
   },
   "source": [
    "# Joint Genotyping"
   ]
  },
  {
   "cell_type": "markdown",
   "metadata": {
    "collapsed": true
   },
   "source": [
    "Una vez que tenemos los vcf de todos los muchachos, los unimos para hacer el genotipado conjunto. Luego de eso, si bien las mejores prácticas indican que el filtro se aplica en batch también, lo mejor pareciera ser splittear el vcf por muestra y correr el filtro para cada muchacho por separado."
   ]
  },
  {
   "cell_type": "code",
   "execution_count": 69,
   "metadata": {
    "collapsed": false
   },
   "outputs": [
    {
     "data": {
      "text/plain": [
       "['SAR101',\n",
       " 'SAR093',\n",
       " 'SAR096',\n",
       " 'SAR100',\n",
       " 'SAR095',\n",
       " 'SAR098',\n",
       " 'SAR103',\n",
       " 'SAR102',\n",
       " 'SAR097',\n",
       " 'SAR094']"
      ]
     },
     "execution_count": 69,
     "metadata": {},
     "output_type": "execute_result"
    }
   ],
   "source": [
    "sample_ids = [re.search(r'(SAR\\d+)', fp).group(1)\n",
    "              for fp in glob(results_dir + '*')]\n",
    "\n",
    "sample_ids"
   ]
  },
  {
   "cell_type": "code",
   "execution_count": 86,
   "metadata": {
    "collapsed": false
   },
   "outputs": [
    {
     "name": "stdout",
     "output_type": "stream",
     "text": [
      "java -jar /home/juan/software/GATK/GenomeAnalysisTK.jar -T GenotypeGVCFs -R /home/juan/gatk_bundle/human_g1k_v37.fasta -D /home/juan/gatk_bundle/dbsnp_138.b37.vcf --variant /home/juan/PARKINSON/results/ENP/FECHA_DEL_ANALISIS/SAR101/alineamiento/raw_variants_bed.gvcf --variant /home/juan/PARKINSON/results/ENP/FECHA_DEL_ANALISIS/SAR093/alineamiento/raw_variants_bed.gvcf --variant /home/juan/PARKINSON/results/ENP/FECHA_DEL_ANALISIS/SAR096/alineamiento/raw_variants_bed.gvcf --variant /home/juan/PARKINSON/results/ENP/FECHA_DEL_ANALISIS/SAR100/alineamiento/raw_variants_bed.gvcf --variant /home/juan/PARKINSON/results/ENP/FECHA_DEL_ANALISIS/SAR095/alineamiento/raw_variants_bed.gvcf --variant /home/juan/PARKINSON/results/ENP/FECHA_DEL_ANALISIS/SAR098/alineamiento/raw_variants_bed.gvcf --variant /home/juan/PARKINSON/results/ENP/FECHA_DEL_ANALISIS/SAR103/alineamiento/raw_variants_bed.gvcf --variant /home/juan/PARKINSON/results/ENP/FECHA_DEL_ANALISIS/SAR102/alineamiento/raw_variants_bed.gvcf --variant /home/juan/PARKINSON/results/ENP/FECHA_DEL_ANALISIS/SAR097/alineamiento/raw_variants_bed.gvcf --variant /home/juan/PARKINSON/results/ENP/FECHA_DEL_ANALISIS/SAR094/alineamiento/raw_variants_bed.gvcf -o /home/juan/PARKINSON/results/ENP/FECHA_DEL_ANALISIS/joint_genotyping.vcf\n"
     ]
    },
    {
     "data": {
      "text/plain": [
       "b''"
      ]
     },
     "execution_count": 86,
     "metadata": {},
     "output_type": "execute_result"
    }
   ],
   "source": [
    "joint_geno_executable = gatk_executable + ' -T GenotypeGVCFs'\n",
    "params = '-R {}/human_g1k_v37.fasta'.format(gatk_bundle_dir)\n",
    "params += ' -D {}/dbsnp_138.b37.vcf'.format(gatk_bundle_dir)\n",
    "\n",
    "for sample_id in sample_ids:\n",
    "    gvcf_filepath = join(results_dir, sample_id, 'alineamiento/raw_variants_bed.gvcf')\n",
    "    params += ' --variant {}'.format(gvcf_filepath)\n",
    "    \n",
    "joint_vcf_filepath = join(results_dir, 'joint_genotyping.vcf')\n",
    "params += ' -o {}'.format(joint_vcf_filepath)\n",
    "command = 'java -jar {} {}'.format(joint_geno_executable, params)\n",
    "print(command)\n",
    "\n",
    "subprocess.check_output(command.split(' '))"
   ]
  },
  {
   "cell_type": "markdown",
   "metadata": {
    "collapsed": true
   },
   "source": [
    "Ojo que en el vcf del genotipado conjunto se ven algunos tipos con variantes ./. y sin los campos de GQ y PL. Lo mirás en el gvcf del chabón y luego en el bam con IGV y (por ej en el SAR095, chr 1, pos 17319011)."
   ]
  },
  {
   "cell_type": "code",
   "execution_count": 90,
   "metadata": {
    "collapsed": false
   },
   "outputs": [
    {
     "name": "stdout",
     "output_type": "stream",
     "text": [
      "vcf-subset -c SAR101-2015 /home/juan/PARKINSON/results/ENP/FECHA_DEL_ANALISIS/joint_genotyping.vcf\n",
      "vcf-subset -c SAR093-2015 /home/juan/PARKINSON/results/ENP/FECHA_DEL_ANALISIS/joint_genotyping.vcf\n",
      "vcf-subset -c SAR096-2015 /home/juan/PARKINSON/results/ENP/FECHA_DEL_ANALISIS/joint_genotyping.vcf\n",
      "vcf-subset -c SAR100-2015 /home/juan/PARKINSON/results/ENP/FECHA_DEL_ANALISIS/joint_genotyping.vcf\n",
      "vcf-subset -c SAR095-2015 /home/juan/PARKINSON/results/ENP/FECHA_DEL_ANALISIS/joint_genotyping.vcf\n",
      "vcf-subset -c SAR098-2015 /home/juan/PARKINSON/results/ENP/FECHA_DEL_ANALISIS/joint_genotyping.vcf\n",
      "vcf-subset -c SAR103-2015 /home/juan/PARKINSON/results/ENP/FECHA_DEL_ANALISIS/joint_genotyping.vcf\n",
      "vcf-subset -c SAR102-2015 /home/juan/PARKINSON/results/ENP/FECHA_DEL_ANALISIS/joint_genotyping.vcf\n",
      "vcf-subset -c SAR097-2015 /home/juan/PARKINSON/results/ENP/FECHA_DEL_ANALISIS/joint_genotyping.vcf\n",
      "vcf-subset -c SAR094-2015 /home/juan/PARKINSON/results/ENP/FECHA_DEL_ANALISIS/joint_genotyping.vcf\n"
     ]
    },
    {
     "data": {
      "text/plain": [
       "['/home/juan/PARKINSON/results/ENP/FECHA_DEL_ANALISIS/SAR101/SAR101.post-joint.vcf',\n",
       " '/home/juan/PARKINSON/results/ENP/FECHA_DEL_ANALISIS/SAR093/SAR093.post-joint.vcf',\n",
       " '/home/juan/PARKINSON/results/ENP/FECHA_DEL_ANALISIS/SAR096/SAR096.post-joint.vcf',\n",
       " '/home/juan/PARKINSON/results/ENP/FECHA_DEL_ANALISIS/SAR100/SAR100.post-joint.vcf',\n",
       " '/home/juan/PARKINSON/results/ENP/FECHA_DEL_ANALISIS/SAR095/SAR095.post-joint.vcf',\n",
       " '/home/juan/PARKINSON/results/ENP/FECHA_DEL_ANALISIS/SAR098/SAR098.post-joint.vcf',\n",
       " '/home/juan/PARKINSON/results/ENP/FECHA_DEL_ANALISIS/SAR103/SAR103.post-joint.vcf',\n",
       " '/home/juan/PARKINSON/results/ENP/FECHA_DEL_ANALISIS/SAR102/SAR102.post-joint.vcf',\n",
       " '/home/juan/PARKINSON/results/ENP/FECHA_DEL_ANALISIS/SAR097/SAR097.post-joint.vcf',\n",
       " '/home/juan/PARKINSON/results/ENP/FECHA_DEL_ANALISIS/SAR094/SAR094.post-joint.vcf']"
      ]
     },
     "execution_count": 90,
     "metadata": {},
     "output_type": "execute_result"
    }
   ],
   "source": [
    "vcfsubset_command = 'vcf-subset'\n",
    "\n",
    "post_joint_vcf_filepaths = []\n",
    "for sample_id in sample_ids:\n",
    "    sample_dir = sample_results_dir(sample_id)\n",
    "    post_joint_vcf_filepath = join(sample_dir, '{}.post-joint.vcf'.format(sample_id))\n",
    "    sample_command = '{0} -c {1} {2}'.format(\n",
    "        vcfsubset_command, sample_id + '-2015', joint_vcf_filepath\n",
    "    )\n",
    "\n",
    "    print(sample_command)\n",
    "    with open(post_joint_vcf_filepath, 'w') as post_joint_vcf_file:\n",
    "        subprocess.run(sample_command.split(' '), stdout=post_joint_vcf_file, check=True)\n",
    "    \n",
    "    post_joint_vcf_filepaths.append(post_joint_vcf_filepath)\n",
    "    \n",
    "post_joint_vcf_filepaths"
   ]
  },
  {
   "cell_type": "code",
   "execution_count": 94,
   "metadata": {
    "collapsed": false
   },
   "outputs": [
    {
     "data": {
      "text/plain": [
       "'/home/juan/PARKINSON/results/ENP/FECHA_DEL_ANALISIS/SAR101/SAR101.post-joint.vcf'"
      ]
     },
     "execution_count": 94,
     "metadata": {},
     "output_type": "execute_result"
    }
   ],
   "source": [
    "post_joint_vcf_filepaths[0]"
   ]
  },
  {
   "cell_type": "code",
   "execution_count": 97,
   "metadata": {
    "collapsed": false
   },
   "outputs": [
    {
     "name": "stdout",
     "output_type": "stream",
     "text": [
      "java -jar /home/juan/software/GATK/GenomeAnalysisTK.jar -T SelectVariants -R /home/juan/gatk_bundle/human_g1k_v37.fasta -V /home/juan/PARKINSON/results/ENP/FECHA_DEL_ANALISIS/SAR101/SAR101.post-joint.vcf -selectType SNP -o /home/juan/PARKINSON/results/ENP/FECHA_DEL_ANALISIS/SAR101/SAR101.only-snps.vcf \n",
      "\n",
      "java -jar /home/juan/software/GATK/GenomeAnalysisTK.jar -T SelectVariants -R /home/juan/gatk_bundle/human_g1k_v37.fasta -V /home/juan/PARKINSON/results/ENP/FECHA_DEL_ANALISIS/SAR093/SAR093.post-joint.vcf -selectType SNP -o /home/juan/PARKINSON/results/ENP/FECHA_DEL_ANALISIS/SAR093/SAR093.only-snps.vcf \n",
      "\n",
      "java -jar /home/juan/software/GATK/GenomeAnalysisTK.jar -T SelectVariants -R /home/juan/gatk_bundle/human_g1k_v37.fasta -V /home/juan/PARKINSON/results/ENP/FECHA_DEL_ANALISIS/SAR096/SAR096.post-joint.vcf -selectType SNP -o /home/juan/PARKINSON/results/ENP/FECHA_DEL_ANALISIS/SAR096/SAR096.only-snps.vcf \n",
      "\n",
      "java -jar /home/juan/software/GATK/GenomeAnalysisTK.jar -T SelectVariants -R /home/juan/gatk_bundle/human_g1k_v37.fasta -V /home/juan/PARKINSON/results/ENP/FECHA_DEL_ANALISIS/SAR100/SAR100.post-joint.vcf -selectType SNP -o /home/juan/PARKINSON/results/ENP/FECHA_DEL_ANALISIS/SAR100/SAR100.only-snps.vcf \n",
      "\n",
      "java -jar /home/juan/software/GATK/GenomeAnalysisTK.jar -T SelectVariants -R /home/juan/gatk_bundle/human_g1k_v37.fasta -V /home/juan/PARKINSON/results/ENP/FECHA_DEL_ANALISIS/SAR095/SAR095.post-joint.vcf -selectType SNP -o /home/juan/PARKINSON/results/ENP/FECHA_DEL_ANALISIS/SAR095/SAR095.only-snps.vcf \n",
      "\n",
      "java -jar /home/juan/software/GATK/GenomeAnalysisTK.jar -T SelectVariants -R /home/juan/gatk_bundle/human_g1k_v37.fasta -V /home/juan/PARKINSON/results/ENP/FECHA_DEL_ANALISIS/SAR098/SAR098.post-joint.vcf -selectType SNP -o /home/juan/PARKINSON/results/ENP/FECHA_DEL_ANALISIS/SAR098/SAR098.only-snps.vcf \n",
      "\n",
      "java -jar /home/juan/software/GATK/GenomeAnalysisTK.jar -T SelectVariants -R /home/juan/gatk_bundle/human_g1k_v37.fasta -V /home/juan/PARKINSON/results/ENP/FECHA_DEL_ANALISIS/SAR103/SAR103.post-joint.vcf -selectType SNP -o /home/juan/PARKINSON/results/ENP/FECHA_DEL_ANALISIS/SAR103/SAR103.only-snps.vcf \n",
      "\n",
      "java -jar /home/juan/software/GATK/GenomeAnalysisTK.jar -T SelectVariants -R /home/juan/gatk_bundle/human_g1k_v37.fasta -V /home/juan/PARKINSON/results/ENP/FECHA_DEL_ANALISIS/SAR102/SAR102.post-joint.vcf -selectType SNP -o /home/juan/PARKINSON/results/ENP/FECHA_DEL_ANALISIS/SAR102/SAR102.only-snps.vcf \n",
      "\n",
      "java -jar /home/juan/software/GATK/GenomeAnalysisTK.jar -T SelectVariants -R /home/juan/gatk_bundle/human_g1k_v37.fasta -V /home/juan/PARKINSON/results/ENP/FECHA_DEL_ANALISIS/SAR097/SAR097.post-joint.vcf -selectType SNP -o /home/juan/PARKINSON/results/ENP/FECHA_DEL_ANALISIS/SAR097/SAR097.only-snps.vcf \n",
      "\n",
      "java -jar /home/juan/software/GATK/GenomeAnalysisTK.jar -T SelectVariants -R /home/juan/gatk_bundle/human_g1k_v37.fasta -V /home/juan/PARKINSON/results/ENP/FECHA_DEL_ANALISIS/SAR094/SAR094.post-joint.vcf -selectType SNP -o /home/juan/PARKINSON/results/ENP/FECHA_DEL_ANALISIS/SAR094/SAR094.only-snps.vcf \n",
      "\n"
     ]
    }
   ],
   "source": [
    "select_variants_executable = gatk_executable + ' -T SelectVariants'\n",
    "variant_filter_executable = gatk_executable + ' -T VariantFiltration'\n",
    "combine_executable = gatk_executable + ' -T CombineVariants'\n",
    "\n",
    "snps_filtered_filepaths = []\n",
    "sample_snps_filepaths = []\n",
    "indels_filtered_filepaths = []\n",
    "sample_indels_filepaths = []\n",
    "\n",
    "snp_filters = [{'filterExpression': 'QD < 2.0',\n",
    "            'filterName': 'QD'},\n",
    "           {'filterExpression': 'MQ < 40.0',\n",
    "            'filterName': 'MQ'},\n",
    "           {'filterExpression': 'MQRankSum < -12.5',\n",
    "            'filterName': 'MQ'},\n",
    "           {'filterExpression': 'ReadPosRankSum < 8.0',\n",
    "            'filterName': 'RPRS'}]\n",
    "\n",
    "for sample_id in sample_ids:\n",
    "    post_joint_vcf_filepath = [fn for fn in post_joint_vcf_filepaths\n",
    "                               if sample_id in fn][0]\n",
    "\n",
    "    # Select SNPs\n",
    "    sample_snps_filepath = post_joint_vcf_filepath.replace('.post-joint', '.snps')\n",
    "    sample_snps_filepaths.append(sample_snps_filepath)\n",
    "    command = 'java -jar {} -R {} -V {} -selectType SNP -o {}'.format(\n",
    "        select_variants_executable, reference_genome_filename,\n",
    "        post_joint_vcf_filepath, sample_snps_filepath\n",
    "    )\n",
    "    print(command, '\\n')\n",
    "    \n",
    "    for filter_expr, filter_name in snp_filters.items():\n",
    "        \n",
    "        # Hard-filter SNPs file    \n",
    "        snps_filtered_filepath = sample_snps_filepath.replace('.snps', '.snps-filtered')\n",
    "        snps_filtered_filepaths.append(snps_filtered_filepath)\n",
    "        command_tmpl = 'java -jar {} -R {} -V {} --filterExpression {} --filterName {} -o {}'\n",
    "        command = command_tmpl.format(\n",
    "            variant_filter_executable, reference_genome_filename,\n",
    "            filter_expr, filter_name, \n",
    "        )"
   ]
  },
  {
   "cell_type": "code",
   "execution_count": null,
   "metadata": {
    "collapsed": true
   },
   "outputs": [],
   "source": []
  },
  {
   "cell_type": "code",
   "execution_count": null,
   "metadata": {
    "collapsed": true
   },
   "outputs": [],
   "source": []
  },
  {
   "cell_type": "code",
   "execution_count": null,
   "metadata": {
    "collapsed": true
   },
   "outputs": [],
   "source": []
  },
  {
   "cell_type": "code",
   "execution_count": null,
   "metadata": {
    "collapsed": true
   },
   "outputs": [],
   "source": []
  },
  {
   "cell_type": "code",
   "execution_count": null,
   "metadata": {
    "collapsed": true
   },
   "outputs": [],
   "source": []
  },
  {
   "cell_type": "code",
   "execution_count": null,
   "metadata": {
    "collapsed": true
   },
   "outputs": [],
   "source": []
  },
  {
   "cell_type": "code",
   "execution_count": null,
   "metadata": {
    "collapsed": true
   },
   "outputs": [],
   "source": []
  },
  {
   "cell_type": "code",
   "execution_count": null,
   "metadata": {
    "collapsed": true
   },
   "outputs": [],
   "source": []
  },
  {
   "cell_type": "code",
   "execution_count": null,
   "metadata": {
    "collapsed": true
   },
   "outputs": [],
   "source": []
  },
  {
   "cell_type": "code",
   "execution_count": null,
   "metadata": {
    "collapsed": true
   },
   "outputs": [],
   "source": []
  }
 ],
 "metadata": {
  "kernelspec": {
   "display_name": "Python 3",
   "language": "python",
   "name": "python3"
  },
  "language_info": {
   "codemirror_mode": {
    "name": "ipython",
    "version": 3
   },
   "file_extension": ".py",
   "mimetype": "text/x-python",
   "name": "python",
   "nbconvert_exporter": "python",
   "pygments_lexer": "ipython3",
   "version": "3.5.1"
  }
 },
 "nbformat": 4,
 "nbformat_minor": 0
}
